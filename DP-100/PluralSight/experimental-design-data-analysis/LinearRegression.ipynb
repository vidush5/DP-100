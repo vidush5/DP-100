{
 "cells": [
  {
   "cell_type": "markdown",
   "metadata": {},
   "source": [
    "### Install Libraries\n",
    "The pre-installed libraries on ML Studio are pretty old. I'm mathcing it to the env on my machine"
   ]
  },
  {
   "cell_type": "code",
   "execution_count": 1,
   "metadata": {},
   "outputs": [
    {
     "name": "stdout",
     "output_type": "stream",
     "text": [
      "Collecting matplotlib==2.1.2\n",
      "  Downloading https://files.pythonhosted.org/packages/03/cc/8bb0a04b66b367d987d750d58815ca29e14a1f15936b1b6ad8eba16082de/matplotlib-2.1.2-cp34-cp34m-manylinux1_x86_64.whl (15.0MB)\n",
      "\u001b[K    100% |ââââââââââââââââââââââââââââââââ| 15.0MB 25kB/s eta 0:00:011\n",
      "\u001b[?25hRequirement already satisfied: cycler>=0.10 in /home/nbuser/anaconda3_23/lib/python3.4/site-packages (from matplotlib==2.1.2)\n",
      "Requirement already satisfied: pytz in /home/nbuser/anaconda3_23/lib/python3.4/site-packages (from matplotlib==2.1.2)\n",
      "Requirement already satisfied: pyparsing!=2.0.4,!=2.1.2,!=2.1.6,>=2.0.1 in /home/nbuser/anaconda3_23/lib/python3.4/site-packages (from matplotlib==2.1.2)\n",
      "Requirement already satisfied: six>=1.10 in /home/nbuser/anaconda3_23/lib/python3.4/site-packages (from matplotlib==2.1.2)\n",
      "Requirement already satisfied: numpy>=1.7.1 in /home/nbuser/anaconda3_23/lib/python3.4/site-packages (from matplotlib==2.1.2)\n",
      "Requirement already satisfied: python-dateutil>=2.1 in /home/nbuser/anaconda3_23/lib/python3.4/site-packages (from matplotlib==2.1.2)\n",
      "Installing collected packages: matplotlib\n",
      "  Found existing installation: matplotlib 1.5.1\n",
      "    Uninstalling matplotlib-1.5.1:\n",
      "      Successfully uninstalled matplotlib-1.5.1\n",
      "Successfully installed matplotlib-2.1.2\n",
      "\u001b[33mYou are using pip version 19.0.3, however version 19.1.1 is available.\n",
      "You should consider upgrading via the 'pip install --upgrade pip' command.\u001b[0m\n"
     ]
    }
   ],
   "source": [
    "!pip install matplotlib==2.1.2"
   ]
  },
  {
   "cell_type": "code",
   "execution_count": 3,
   "metadata": {},
   "outputs": [
    {
     "name": "stdout",
     "output_type": "stream",
     "text": [
      "Collecting scikit-learn==0.20.2\n",
      "  Downloading https://files.pythonhosted.org/packages/38/5a/4b1c9c56cfcdc727d977d6698de10b749a8e0f487c519125d9eecd9613ed/scikit_learn-0.20.2-cp34-cp34m-manylinux1_x86_64.whl (5.3MB)\n",
      "\u001b[K    100% |ââââââââââââââââââââââââââââââââ| 5.3MB 180kB/s eta 0:00:01\n",
      "\u001b[?25hRequirement already satisfied: numpy>=1.8.2 in /home/nbuser/anaconda3_23/lib/python3.4/site-packages (from scikit-learn==0.20.2)\n",
      "Requirement already satisfied: scipy>=0.13.3 in /home/nbuser/anaconda3_23/lib/python3.4/site-packages (from scikit-learn==0.20.2)\n",
      "Installing collected packages: scikit-learn\n",
      "  Found existing installation: scikit-learn 0.18.1\n",
      "\u001b[31m    DEPRECATION: Uninstalling a distutils installed project (scikit-learn) has been deprecated and will be removed in a future version. This is due to the fact that uninstalling a distutils project will only partially uninstall the project.\u001b[0m\n",
      "    Uninstalling scikit-learn-0.18.1:\n",
      "      Successfully uninstalled scikit-learn-0.18.1\n",
      "Successfully installed scikit-learn-0.20.2\n",
      "\u001b[33mYou are using pip version 19.0.3, however version 19.1.1 is available.\n",
      "You should consider upgrading via the 'pip install --upgrade pip' command.\u001b[0m\n"
     ]
    }
   ],
   "source": [
    "!pip install scikit-learn==0.20.2"
   ]
  },
  {
   "cell_type": "code",
   "execution_count": 2,
   "metadata": {},
   "outputs": [
    {
     "name": "stdout",
     "output_type": "stream",
     "text": [
      "Collecting seaborn==0.8.1\n",
      "  Downloading https://files.pythonhosted.org/packages/10/01/dd1c7838cde3b69b247aaeb61016e238cafd8188a276e366d36aa6bcdab4/seaborn-0.8.1.tar.gz (178kB)\n",
      "\u001b[K    100% |ââââââââââââââââââââââââââââââââ| 184kB 4.0MB/s eta 0:00:01\n",
      "\u001b[?25hBuilding wheels for collected packages: seaborn\n",
      "  Running setup.py bdist_wheel for seaborn ... \u001b[?25ldone\n",
      "\u001b[?25h  Stored in directory: /home/nbuser/.cache/pip/wheels/26/0a/44/53ddd89769e62f7c6691976375b86c6492e7dd20a2d3970e32\n",
      "Successfully built seaborn\n",
      "Installing collected packages: seaborn\n",
      "  Found existing installation: seaborn 0.7.1\n",
      "\u001b[31m    DEPRECATION: Uninstalling a distutils installed project (seaborn) has been deprecated and will be removed in a future version. This is due to the fact that uninstalling a distutils project will only partially uninstall the project.\u001b[0m\n",
      "    Uninstalling seaborn-0.7.1:\n",
      "      Successfully uninstalled seaborn-0.7.1\n",
      "Successfully installed seaborn-0.8.1\n",
      "\u001b[33mYou are using pip version 19.0.3, however version 19.1.1 is available.\n",
      "You should consider upgrading via the 'pip install --upgrade pip' command.\u001b[0m\n"
     ]
    }
   ],
   "source": [
    "!pip install seaborn==0.8.1"
   ]
  },
  {
   "cell_type": "markdown",
   "metadata": {},
   "source": [
    "### Import Libraries"
   ]
  },
  {
   "cell_type": "code",
   "execution_count": 68,
   "metadata": {},
   "outputs": [],
   "source": [
    "import sklearn\n",
    "import seaborn as sns\n",
    "import matplotlib.pyplot as plt\n",
    "\n",
    "from sklearn.model_selection import train_test_split\n",
    "from sklearn.linear_model import LinearRegression"
   ]
  },
  {
   "cell_type": "markdown",
   "metadata": {},
   "source": [
    "### Load and Pre-process Data\n",
    "https://www.kaggle.com/shivachandel/kc-house-data"
   ]
  },
  {
   "cell_type": "code",
   "execution_count": 69,
   "metadata": {},
   "outputs": [],
   "source": [
    "from azureml import Workspace\n",
    "\n",
    "ws = Workspace()\n",
    "ds = ws.datasets['kc_house_data.csv']\n",
    "houseprice_df = ds.to_dataframe()"
   ]
  },
  {
   "cell_type": "code",
   "execution_count": 70,
   "metadata": {},
   "outputs": [
    {
     "data": {
      "text/html": [
       "<div>\n",
       "<table border=\"1\" class=\"dataframe\">\n",
       "  <thead>\n",
       "    <tr style=\"text-align: right;\">\n",
       "      <th></th>\n",
       "      <th>id</th>\n",
       "      <th>date</th>\n",
       "      <th>price</th>\n",
       "      <th>bedrooms</th>\n",
       "      <th>bathrooms</th>\n",
       "      <th>sqft_living</th>\n",
       "      <th>sqft_lot</th>\n",
       "      <th>floors</th>\n",
       "      <th>waterfront</th>\n",
       "      <th>view</th>\n",
       "      <th>...</th>\n",
       "      <th>grade</th>\n",
       "      <th>sqft_above</th>\n",
       "      <th>sqft_basement</th>\n",
       "      <th>yr_built</th>\n",
       "      <th>yr_renovated</th>\n",
       "      <th>zipcode</th>\n",
       "      <th>lat</th>\n",
       "      <th>long</th>\n",
       "      <th>sqft_living15</th>\n",
       "      <th>sqft_lot15</th>\n",
       "    </tr>\n",
       "  </thead>\n",
       "  <tbody>\n",
       "    <tr>\n",
       "      <th>7563</th>\n",
       "      <td>2787250090</td>\n",
       "      <td>20140618T000000</td>\n",
       "      <td>562000.0</td>\n",
       "      <td>5</td>\n",
       "      <td>3.00</td>\n",
       "      <td>2795</td>\n",
       "      <td>15101</td>\n",
       "      <td>2.0</td>\n",
       "      <td>0</td>\n",
       "      <td>0</td>\n",
       "      <td>...</td>\n",
       "      <td>8</td>\n",
       "      <td>2795.0</td>\n",
       "      <td>0</td>\n",
       "      <td>1996</td>\n",
       "      <td>0</td>\n",
       "      <td>98019</td>\n",
       "      <td>47.7301</td>\n",
       "      <td>-121.972</td>\n",
       "      <td>2750</td>\n",
       "      <td>14567</td>\n",
       "    </tr>\n",
       "    <tr>\n",
       "      <th>10696</th>\n",
       "      <td>3343901242</td>\n",
       "      <td>20140807T000000</td>\n",
       "      <td>335000.0</td>\n",
       "      <td>3</td>\n",
       "      <td>1.50</td>\n",
       "      <td>1900</td>\n",
       "      <td>7584</td>\n",
       "      <td>1.0</td>\n",
       "      <td>0</td>\n",
       "      <td>0</td>\n",
       "      <td>...</td>\n",
       "      <td>7</td>\n",
       "      <td>1900.0</td>\n",
       "      <td>0</td>\n",
       "      <td>1962</td>\n",
       "      <td>0</td>\n",
       "      <td>98056</td>\n",
       "      <td>47.5091</td>\n",
       "      <td>-122.190</td>\n",
       "      <td>1410</td>\n",
       "      <td>7584</td>\n",
       "    </tr>\n",
       "    <tr>\n",
       "      <th>17100</th>\n",
       "      <td>9297300500</td>\n",
       "      <td>20141023T000000</td>\n",
       "      <td>435000.0</td>\n",
       "      <td>2</td>\n",
       "      <td>1.00</td>\n",
       "      <td>870</td>\n",
       "      <td>4000</td>\n",
       "      <td>1.0</td>\n",
       "      <td>0</td>\n",
       "      <td>2</td>\n",
       "      <td>...</td>\n",
       "      <td>7</td>\n",
       "      <td>870.0</td>\n",
       "      <td>0</td>\n",
       "      <td>1950</td>\n",
       "      <td>0</td>\n",
       "      <td>98126</td>\n",
       "      <td>47.5682</td>\n",
       "      <td>-122.374</td>\n",
       "      <td>1690</td>\n",
       "      <td>4000</td>\n",
       "    </tr>\n",
       "    <tr>\n",
       "      <th>5201</th>\n",
       "      <td>8857600680</td>\n",
       "      <td>20150313T000000</td>\n",
       "      <td>285900.0</td>\n",
       "      <td>5</td>\n",
       "      <td>1.50</td>\n",
       "      <td>1690</td>\n",
       "      <td>7725</td>\n",
       "      <td>1.5</td>\n",
       "      <td>0</td>\n",
       "      <td>0</td>\n",
       "      <td>...</td>\n",
       "      <td>7</td>\n",
       "      <td>1690.0</td>\n",
       "      <td>0</td>\n",
       "      <td>1961</td>\n",
       "      <td>0</td>\n",
       "      <td>98032</td>\n",
       "      <td>47.3859</td>\n",
       "      <td>-122.288</td>\n",
       "      <td>1690</td>\n",
       "      <td>7739</td>\n",
       "    </tr>\n",
       "    <tr>\n",
       "      <th>4577</th>\n",
       "      <td>6021503740</td>\n",
       "      <td>20150304T000000</td>\n",
       "      <td>690000.0</td>\n",
       "      <td>3</td>\n",
       "      <td>1.00</td>\n",
       "      <td>1090</td>\n",
       "      <td>4000</td>\n",
       "      <td>1.5</td>\n",
       "      <td>0</td>\n",
       "      <td>0</td>\n",
       "      <td>...</td>\n",
       "      <td>7</td>\n",
       "      <td>1090.0</td>\n",
       "      <td>0</td>\n",
       "      <td>1945</td>\n",
       "      <td>0</td>\n",
       "      <td>98117</td>\n",
       "      <td>47.6846</td>\n",
       "      <td>-122.386</td>\n",
       "      <td>1520</td>\n",
       "      <td>4000</td>\n",
       "    </tr>\n",
       "    <tr>\n",
       "      <th>19463</th>\n",
       "      <td>1152000040</td>\n",
       "      <td>20141010T000000</td>\n",
       "      <td>774888.0</td>\n",
       "      <td>3</td>\n",
       "      <td>2.25</td>\n",
       "      <td>2420</td>\n",
       "      <td>23507</td>\n",
       "      <td>1.0</td>\n",
       "      <td>0</td>\n",
       "      <td>0</td>\n",
       "      <td>...</td>\n",
       "      <td>8</td>\n",
       "      <td>2420.0</td>\n",
       "      <td>0</td>\n",
       "      <td>1969</td>\n",
       "      <td>0</td>\n",
       "      <td>98027</td>\n",
       "      <td>47.5107</td>\n",
       "      <td>-122.027</td>\n",
       "      <td>2540</td>\n",
       "      <td>22257</td>\n",
       "    </tr>\n",
       "    <tr>\n",
       "      <th>11627</th>\n",
       "      <td>6117500160</td>\n",
       "      <td>20150317T000000</td>\n",
       "      <td>425000.0</td>\n",
       "      <td>3</td>\n",
       "      <td>1.50</td>\n",
       "      <td>1570</td>\n",
       "      <td>12412</td>\n",
       "      <td>1.0</td>\n",
       "      <td>0</td>\n",
       "      <td>3</td>\n",
       "      <td>...</td>\n",
       "      <td>8</td>\n",
       "      <td>1570.0</td>\n",
       "      <td>0</td>\n",
       "      <td>1954</td>\n",
       "      <td>0</td>\n",
       "      <td>98166</td>\n",
       "      <td>47.4380</td>\n",
       "      <td>-122.349</td>\n",
       "      <td>2130</td>\n",
       "      <td>12412</td>\n",
       "    </tr>\n",
       "    <tr>\n",
       "      <th>10970</th>\n",
       "      <td>3271300955</td>\n",
       "      <td>20150224T000000</td>\n",
       "      <td>868000.0</td>\n",
       "      <td>4</td>\n",
       "      <td>2.50</td>\n",
       "      <td>2020</td>\n",
       "      <td>4350</td>\n",
       "      <td>2.0</td>\n",
       "      <td>0</td>\n",
       "      <td>0</td>\n",
       "      <td>...</td>\n",
       "      <td>9</td>\n",
       "      <td>1730.0</td>\n",
       "      <td>290</td>\n",
       "      <td>1943</td>\n",
       "      <td>0</td>\n",
       "      <td>98199</td>\n",
       "      <td>47.6503</td>\n",
       "      <td>-122.410</td>\n",
       "      <td>1620</td>\n",
       "      <td>5800</td>\n",
       "    </tr>\n",
       "    <tr>\n",
       "      <th>12466</th>\n",
       "      <td>1121039105</td>\n",
       "      <td>20141203T000000</td>\n",
       "      <td>399950.0</td>\n",
       "      <td>4</td>\n",
       "      <td>3.00</td>\n",
       "      <td>2150</td>\n",
       "      <td>64694</td>\n",
       "      <td>1.0</td>\n",
       "      <td>0</td>\n",
       "      <td>0</td>\n",
       "      <td>...</td>\n",
       "      <td>8</td>\n",
       "      <td>1450.0</td>\n",
       "      <td>700</td>\n",
       "      <td>1969</td>\n",
       "      <td>0</td>\n",
       "      <td>98023</td>\n",
       "      <td>47.3268</td>\n",
       "      <td>-122.388</td>\n",
       "      <td>2430</td>\n",
       "      <td>59612</td>\n",
       "    </tr>\n",
       "    <tr>\n",
       "      <th>18555</th>\n",
       "      <td>1778350150</td>\n",
       "      <td>20140811T000000</td>\n",
       "      <td>839000.0</td>\n",
       "      <td>5</td>\n",
       "      <td>4.00</td>\n",
       "      <td>4280</td>\n",
       "      <td>11307</td>\n",
       "      <td>2.0</td>\n",
       "      <td>0</td>\n",
       "      <td>0</td>\n",
       "      <td>...</td>\n",
       "      <td>10</td>\n",
       "      <td>2710.0</td>\n",
       "      <td>1570</td>\n",
       "      <td>1996</td>\n",
       "      <td>0</td>\n",
       "      <td>98027</td>\n",
       "      <td>47.5503</td>\n",
       "      <td>-122.081</td>\n",
       "      <td>3080</td>\n",
       "      <td>11307</td>\n",
       "    </tr>\n",
       "  </tbody>\n",
       "</table>\n",
       "<p>10 rows Ã 21 columns</p>\n",
       "</div>"
      ],
      "text/plain": [
       "               id             date     price  bedrooms  bathrooms  \\\n",
       "7563   2787250090  20140618T000000  562000.0         5       3.00   \n",
       "10696  3343901242  20140807T000000  335000.0         3       1.50   \n",
       "17100  9297300500  20141023T000000  435000.0         2       1.00   \n",
       "5201   8857600680  20150313T000000  285900.0         5       1.50   \n",
       "4577   6021503740  20150304T000000  690000.0         3       1.00   \n",
       "19463  1152000040  20141010T000000  774888.0         3       2.25   \n",
       "11627  6117500160  20150317T000000  425000.0         3       1.50   \n",
       "10970  3271300955  20150224T000000  868000.0         4       2.50   \n",
       "12466  1121039105  20141203T000000  399950.0         4       3.00   \n",
       "18555  1778350150  20140811T000000  839000.0         5       4.00   \n",
       "\n",
       "       sqft_living  sqft_lot  floors  waterfront  view     ...      grade  \\\n",
       "7563          2795     15101     2.0           0     0     ...          8   \n",
       "10696         1900      7584     1.0           0     0     ...          7   \n",
       "17100          870      4000     1.0           0     2     ...          7   \n",
       "5201          1690      7725     1.5           0     0     ...          7   \n",
       "4577          1090      4000     1.5           0     0     ...          7   \n",
       "19463         2420     23507     1.0           0     0     ...          8   \n",
       "11627         1570     12412     1.0           0     3     ...          8   \n",
       "10970         2020      4350     2.0           0     0     ...          9   \n",
       "12466         2150     64694     1.0           0     0     ...          8   \n",
       "18555         4280     11307     2.0           0     0     ...         10   \n",
       "\n",
       "       sqft_above  sqft_basement  yr_built  yr_renovated  zipcode      lat  \\\n",
       "7563       2795.0              0      1996             0    98019  47.7301   \n",
       "10696      1900.0              0      1962             0    98056  47.5091   \n",
       "17100       870.0              0      1950             0    98126  47.5682   \n",
       "5201       1690.0              0      1961             0    98032  47.3859   \n",
       "4577       1090.0              0      1945             0    98117  47.6846   \n",
       "19463      2420.0              0      1969             0    98027  47.5107   \n",
       "11627      1570.0              0      1954             0    98166  47.4380   \n",
       "10970      1730.0            290      1943             0    98199  47.6503   \n",
       "12466      1450.0            700      1969             0    98023  47.3268   \n",
       "18555      2710.0           1570      1996             0    98027  47.5503   \n",
       "\n",
       "          long  sqft_living15  sqft_lot15  \n",
       "7563  -121.972           2750       14567  \n",
       "10696 -122.190           1410        7584  \n",
       "17100 -122.374           1690        4000  \n",
       "5201  -122.288           1690        7739  \n",
       "4577  -122.386           1520        4000  \n",
       "19463 -122.027           2540       22257  \n",
       "11627 -122.349           2130       12412  \n",
       "10970 -122.410           1620        5800  \n",
       "12466 -122.388           2430       59612  \n",
       "18555 -122.081           3080       11307  \n",
       "\n",
       "[10 rows x 21 columns]"
      ]
     },
     "execution_count": 70,
     "metadata": {},
     "output_type": "execute_result"
    }
   ],
   "source": [
    "houseprice_df.sample(10)"
   ]
  },
  {
   "cell_type": "code",
   "execution_count": 71,
   "metadata": {
    "scrolled": true
   },
   "outputs": [
    {
     "data": {
      "text/plain": [
       "(21613, 21)"
      ]
     },
     "execution_count": 71,
     "metadata": {},
     "output_type": "execute_result"
    }
   ],
   "source": [
    "houseprice_df.shape"
   ]
  },
  {
   "cell_type": "markdown",
   "metadata": {},
   "source": [
    "Drop unneccessary columns"
   ]
  },
  {
   "cell_type": "code",
   "execution_count": 72,
   "metadata": {},
   "outputs": [],
   "source": [
    "houseprice_df = houseprice_df.drop([\"id\", \"date\", \"zipcode\", \"lat\", \"long\"], axis = 1)"
   ]
  },
  {
   "cell_type": "code",
   "execution_count": 73,
   "metadata": {},
   "outputs": [
    {
     "data": {
      "text/html": [
       "<div>\n",
       "<table border=\"1\" class=\"dataframe\">\n",
       "  <thead>\n",
       "    <tr style=\"text-align: right;\">\n",
       "      <th></th>\n",
       "      <th>price</th>\n",
       "      <th>bedrooms</th>\n",
       "      <th>bathrooms</th>\n",
       "      <th>sqft_living</th>\n",
       "      <th>sqft_lot</th>\n",
       "      <th>floors</th>\n",
       "      <th>waterfront</th>\n",
       "      <th>view</th>\n",
       "      <th>condition</th>\n",
       "      <th>grade</th>\n",
       "      <th>sqft_above</th>\n",
       "      <th>sqft_basement</th>\n",
       "      <th>yr_built</th>\n",
       "      <th>yr_renovated</th>\n",
       "      <th>sqft_living15</th>\n",
       "      <th>sqft_lot15</th>\n",
       "    </tr>\n",
       "  </thead>\n",
       "  <tbody>\n",
       "    <tr>\n",
       "      <th>0</th>\n",
       "      <td>221900.0</td>\n",
       "      <td>3</td>\n",
       "      <td>1.00</td>\n",
       "      <td>1180</td>\n",
       "      <td>5650</td>\n",
       "      <td>1.0</td>\n",
       "      <td>0</td>\n",
       "      <td>0</td>\n",
       "      <td>3</td>\n",
       "      <td>7</td>\n",
       "      <td>1180.0</td>\n",
       "      <td>0</td>\n",
       "      <td>1955</td>\n",
       "      <td>0</td>\n",
       "      <td>1340</td>\n",
       "      <td>5650</td>\n",
       "    </tr>\n",
       "    <tr>\n",
       "      <th>1</th>\n",
       "      <td>538000.0</td>\n",
       "      <td>3</td>\n",
       "      <td>2.25</td>\n",
       "      <td>2570</td>\n",
       "      <td>7242</td>\n",
       "      <td>2.0</td>\n",
       "      <td>0</td>\n",
       "      <td>0</td>\n",
       "      <td>3</td>\n",
       "      <td>7</td>\n",
       "      <td>2170.0</td>\n",
       "      <td>400</td>\n",
       "      <td>1951</td>\n",
       "      <td>1991</td>\n",
       "      <td>1690</td>\n",
       "      <td>7639</td>\n",
       "    </tr>\n",
       "    <tr>\n",
       "      <th>2</th>\n",
       "      <td>180000.0</td>\n",
       "      <td>2</td>\n",
       "      <td>1.00</td>\n",
       "      <td>770</td>\n",
       "      <td>10000</td>\n",
       "      <td>1.0</td>\n",
       "      <td>0</td>\n",
       "      <td>0</td>\n",
       "      <td>3</td>\n",
       "      <td>6</td>\n",
       "      <td>770.0</td>\n",
       "      <td>0</td>\n",
       "      <td>1933</td>\n",
       "      <td>0</td>\n",
       "      <td>2720</td>\n",
       "      <td>8062</td>\n",
       "    </tr>\n",
       "    <tr>\n",
       "      <th>3</th>\n",
       "      <td>604000.0</td>\n",
       "      <td>4</td>\n",
       "      <td>3.00</td>\n",
       "      <td>1960</td>\n",
       "      <td>5000</td>\n",
       "      <td>1.0</td>\n",
       "      <td>0</td>\n",
       "      <td>0</td>\n",
       "      <td>5</td>\n",
       "      <td>7</td>\n",
       "      <td>1050.0</td>\n",
       "      <td>910</td>\n",
       "      <td>1965</td>\n",
       "      <td>0</td>\n",
       "      <td>1360</td>\n",
       "      <td>5000</td>\n",
       "    </tr>\n",
       "    <tr>\n",
       "      <th>4</th>\n",
       "      <td>510000.0</td>\n",
       "      <td>3</td>\n",
       "      <td>2.00</td>\n",
       "      <td>1680</td>\n",
       "      <td>8080</td>\n",
       "      <td>1.0</td>\n",
       "      <td>0</td>\n",
       "      <td>0</td>\n",
       "      <td>3</td>\n",
       "      <td>8</td>\n",
       "      <td>1680.0</td>\n",
       "      <td>0</td>\n",
       "      <td>1987</td>\n",
       "      <td>0</td>\n",
       "      <td>1800</td>\n",
       "      <td>7503</td>\n",
       "    </tr>\n",
       "  </tbody>\n",
       "</table>\n",
       "</div>"
      ],
      "text/plain": [
       "      price  bedrooms  bathrooms  sqft_living  sqft_lot  floors  waterfront  \\\n",
       "0  221900.0         3       1.00         1180      5650     1.0           0   \n",
       "1  538000.0         3       2.25         2570      7242     2.0           0   \n",
       "2  180000.0         2       1.00          770     10000     1.0           0   \n",
       "3  604000.0         4       3.00         1960      5000     1.0           0   \n",
       "4  510000.0         3       2.00         1680      8080     1.0           0   \n",
       "\n",
       "   view  condition  grade  sqft_above  sqft_basement  yr_built  yr_renovated  \\\n",
       "0     0          3      7      1180.0              0      1955             0   \n",
       "1     0          3      7      2170.0            400      1951          1991   \n",
       "2     0          3      6       770.0              0      1933             0   \n",
       "3     0          5      7      1050.0            910      1965             0   \n",
       "4     0          3      8      1680.0              0      1987             0   \n",
       "\n",
       "   sqft_living15  sqft_lot15  \n",
       "0           1340        5650  \n",
       "1           1690        7639  \n",
       "2           2720        8062  \n",
       "3           1360        5000  \n",
       "4           1800        7503  "
      ]
     },
     "execution_count": 73,
     "metadata": {},
     "output_type": "execute_result"
    }
   ],
   "source": [
    "houseprice_df.head()"
   ]
  },
  {
   "cell_type": "markdown",
   "metadata": {},
   "source": [
    "Replace the year a building was renovated in, with a boolean value to indicate if it was renovated or not"
   ]
  },
  {
   "cell_type": "code",
   "execution_count": 74,
   "metadata": {},
   "outputs": [],
   "source": [
    "houseprice_df.loc[houseprice_df['yr_renovated'] > 1, 'yr_renovated'] = 1"
   ]
  },
  {
   "cell_type": "code",
   "execution_count": 75,
   "metadata": {},
   "outputs": [
    {
     "data": {
      "text/plain": [
       "0    0\n",
       "1    1\n",
       "2    0\n",
       "3    0\n",
       "4    0\n",
       "Name: yr_renovated, dtype: int64"
      ]
     },
     "execution_count": 75,
     "metadata": {},
     "output_type": "execute_result"
    }
   ],
   "source": [
    "houseprice_df['yr_renovated'].head()"
   ]
  },
  {
   "cell_type": "markdown",
   "metadata": {},
   "source": [
    "Clean missing values"
   ]
  },
  {
   "cell_type": "code",
   "execution_count": 76,
   "metadata": {},
   "outputs": [],
   "source": [
    "houseprice_df = houseprice_df.dropna()"
   ]
  },
  {
   "cell_type": "markdown",
   "metadata": {},
   "source": [
    "Change the data type of categorical values"
   ]
  },
  {
   "cell_type": "code",
   "execution_count": 77,
   "metadata": {},
   "outputs": [
    {
     "data": {
      "text/plain": [
       "price            float64\n",
       "bedrooms           int64\n",
       "bathrooms        float64\n",
       "sqft_living        int64\n",
       "sqft_lot           int64\n",
       "floors           float64\n",
       "waterfront         int64\n",
       "view               int64\n",
       "condition          int64\n",
       "grade              int64\n",
       "sqft_above       float64\n",
       "sqft_basement      int64\n",
       "yr_built           int64\n",
       "yr_renovated       int64\n",
       "sqft_living15      int64\n",
       "sqft_lot15         int64\n",
       "dtype: object"
      ]
     },
     "execution_count": 77,
     "metadata": {},
     "output_type": "execute_result"
    }
   ],
   "source": [
    "houseprice_df.dtypes"
   ]
  },
  {
   "cell_type": "code",
   "execution_count": 78,
   "metadata": {},
   "outputs": [],
   "source": [
    "col_names = ['waterfront', 'view', 'yr_renovated']"
   ]
  },
  {
   "cell_type": "code",
   "execution_count": 79,
   "metadata": {},
   "outputs": [],
   "source": [
    "for col in col_names:\n",
    "    houseprice_df[col] = houseprice_df[col].astype('category', copy=False)"
   ]
  },
  {
   "cell_type": "code",
   "execution_count": 80,
   "metadata": {},
   "outputs": [
    {
     "data": {
      "text/plain": [
       "price             float64\n",
       "bedrooms            int64\n",
       "bathrooms         float64\n",
       "sqft_living         int64\n",
       "sqft_lot            int64\n",
       "floors            float64\n",
       "waterfront       category\n",
       "view             category\n",
       "condition           int64\n",
       "grade               int64\n",
       "sqft_above        float64\n",
       "sqft_basement       int64\n",
       "yr_built            int64\n",
       "yr_renovated     category\n",
       "sqft_living15       int64\n",
       "sqft_lot15          int64\n",
       "dtype: object"
      ]
     },
     "execution_count": 80,
     "metadata": {},
     "output_type": "execute_result"
    }
   ],
   "source": [
    "houseprice_df.dtypes"
   ]
  },
  {
   "cell_type": "code",
   "execution_count": 82,
   "metadata": {},
   "outputs": [],
   "source": [
    "from azureml import DataTypeIds\n",
    "\n",
    "dataset = ws.datasets.add_from_dataframe(\n",
    "    dataframe=houseprice_df,\n",
    "    data_type_id=DataTypeIds.GenericCSV,\n",
    "    name='houseprice_data',\n",
    "    description='updated house price data'\n",
    ")"
   ]
  },
  {
   "cell_type": "markdown",
   "metadata": {},
   "source": [
    "### Explore Dataset"
   ]
  },
  {
   "cell_type": "code",
   "execution_count": 83,
   "metadata": {},
   "outputs": [
    {
     "data": {
      "text/html": [
       "<div>\n",
       "<table border=\"1\" class=\"dataframe\">\n",
       "  <thead>\n",
       "    <tr style=\"text-align: right;\">\n",
       "      <th></th>\n",
       "      <th>price</th>\n",
       "      <th>bedrooms</th>\n",
       "      <th>bathrooms</th>\n",
       "      <th>sqft_living</th>\n",
       "      <th>sqft_lot</th>\n",
       "      <th>floors</th>\n",
       "      <th>condition</th>\n",
       "      <th>grade</th>\n",
       "      <th>sqft_above</th>\n",
       "      <th>sqft_basement</th>\n",
       "      <th>yr_built</th>\n",
       "      <th>sqft_living15</th>\n",
       "      <th>sqft_lot15</th>\n",
       "    </tr>\n",
       "  </thead>\n",
       "  <tbody>\n",
       "    <tr>\n",
       "      <th>count</th>\n",
       "      <td>2.161100e+04</td>\n",
       "      <td>21611.000000</td>\n",
       "      <td>21611.000000</td>\n",
       "      <td>21611.000000</td>\n",
       "      <td>2.161100e+04</td>\n",
       "      <td>21611.000000</td>\n",
       "      <td>21611.000000</td>\n",
       "      <td>21611.000000</td>\n",
       "      <td>21611.000000</td>\n",
       "      <td>21611.000000</td>\n",
       "      <td>21611.000000</td>\n",
       "      <td>21611.000000</td>\n",
       "      <td>21611.000000</td>\n",
       "    </tr>\n",
       "    <tr>\n",
       "      <th>mean</th>\n",
       "      <td>5.400850e+05</td>\n",
       "      <td>3.370830</td>\n",
       "      <td>2.114791</td>\n",
       "      <td>2079.853454</td>\n",
       "      <td>1.510771e+04</td>\n",
       "      <td>1.494332</td>\n",
       "      <td>3.409421</td>\n",
       "      <td>7.656888</td>\n",
       "      <td>1788.396095</td>\n",
       "      <td>291.457360</td>\n",
       "      <td>1971.007959</td>\n",
       "      <td>1986.559576</td>\n",
       "      <td>12769.025357</td>\n",
       "    </tr>\n",
       "    <tr>\n",
       "      <th>std</th>\n",
       "      <td>3.671430e+05</td>\n",
       "      <td>0.930092</td>\n",
       "      <td>0.770157</td>\n",
       "      <td>918.422406</td>\n",
       "      <td>4.142235e+04</td>\n",
       "      <td>0.540003</td>\n",
       "      <td>0.650755</td>\n",
       "      <td>1.175502</td>\n",
       "      <td>828.128162</td>\n",
       "      <td>442.487355</td>\n",
       "      <td>29.372358</td>\n",
       "      <td>685.416548</td>\n",
       "      <td>27305.369808</td>\n",
       "    </tr>\n",
       "    <tr>\n",
       "      <th>min</th>\n",
       "      <td>7.500000e+04</td>\n",
       "      <td>0.000000</td>\n",
       "      <td>0.000000</td>\n",
       "      <td>290.000000</td>\n",
       "      <td>5.200000e+02</td>\n",
       "      <td>1.000000</td>\n",
       "      <td>1.000000</td>\n",
       "      <td>1.000000</td>\n",
       "      <td>290.000000</td>\n",
       "      <td>0.000000</td>\n",
       "      <td>1900.000000</td>\n",
       "      <td>399.000000</td>\n",
       "      <td>651.000000</td>\n",
       "    </tr>\n",
       "    <tr>\n",
       "      <th>25%</th>\n",
       "      <td>3.217250e+05</td>\n",
       "      <td>3.000000</td>\n",
       "      <td>1.750000</td>\n",
       "      <td>1426.000000</td>\n",
       "      <td>5.040000e+03</td>\n",
       "      <td>1.000000</td>\n",
       "      <td>3.000000</td>\n",
       "      <td>7.000000</td>\n",
       "      <td>1190.000000</td>\n",
       "      <td>0.000000</td>\n",
       "      <td>1951.000000</td>\n",
       "      <td>1490.000000</td>\n",
       "      <td>5100.000000</td>\n",
       "    </tr>\n",
       "    <tr>\n",
       "      <th>50%</th>\n",
       "      <td>4.500000e+05</td>\n",
       "      <td>3.000000</td>\n",
       "      <td>2.250000</td>\n",
       "      <td>1910.000000</td>\n",
       "      <td>7.618000e+03</td>\n",
       "      <td>1.500000</td>\n",
       "      <td>3.000000</td>\n",
       "      <td>7.000000</td>\n",
       "      <td>1560.000000</td>\n",
       "      <td>0.000000</td>\n",
       "      <td>1975.000000</td>\n",
       "      <td>1840.000000</td>\n",
       "      <td>7620.000000</td>\n",
       "    </tr>\n",
       "    <tr>\n",
       "      <th>75%</th>\n",
       "      <td>6.450000e+05</td>\n",
       "      <td>4.000000</td>\n",
       "      <td>2.500000</td>\n",
       "      <td>2550.000000</td>\n",
       "      <td>1.068850e+04</td>\n",
       "      <td>2.000000</td>\n",
       "      <td>4.000000</td>\n",
       "      <td>8.000000</td>\n",
       "      <td>2210.000000</td>\n",
       "      <td>560.000000</td>\n",
       "      <td>1997.000000</td>\n",
       "      <td>2360.000000</td>\n",
       "      <td>10083.500000</td>\n",
       "    </tr>\n",
       "    <tr>\n",
       "      <th>max</th>\n",
       "      <td>7.700000e+06</td>\n",
       "      <td>33.000000</td>\n",
       "      <td>8.000000</td>\n",
       "      <td>13540.000000</td>\n",
       "      <td>1.651359e+06</td>\n",
       "      <td>3.500000</td>\n",
       "      <td>5.000000</td>\n",
       "      <td>13.000000</td>\n",
       "      <td>9410.000000</td>\n",
       "      <td>4820.000000</td>\n",
       "      <td>2015.000000</td>\n",
       "      <td>6210.000000</td>\n",
       "      <td>871200.000000</td>\n",
       "    </tr>\n",
       "  </tbody>\n",
       "</table>\n",
       "</div>"
      ],
      "text/plain": [
       "              price      bedrooms     bathrooms   sqft_living      sqft_lot  \\\n",
       "count  2.161100e+04  21611.000000  21611.000000  21611.000000  2.161100e+04   \n",
       "mean   5.400850e+05      3.370830      2.114791   2079.853454  1.510771e+04   \n",
       "std    3.671430e+05      0.930092      0.770157    918.422406  4.142235e+04   \n",
       "min    7.500000e+04      0.000000      0.000000    290.000000  5.200000e+02   \n",
       "25%    3.217250e+05      3.000000      1.750000   1426.000000  5.040000e+03   \n",
       "50%    4.500000e+05      3.000000      2.250000   1910.000000  7.618000e+03   \n",
       "75%    6.450000e+05      4.000000      2.500000   2550.000000  1.068850e+04   \n",
       "max    7.700000e+06     33.000000      8.000000  13540.000000  1.651359e+06   \n",
       "\n",
       "             floors     condition         grade    sqft_above  sqft_basement  \\\n",
       "count  21611.000000  21611.000000  21611.000000  21611.000000   21611.000000   \n",
       "mean       1.494332      3.409421      7.656888   1788.396095     291.457360   \n",
       "std        0.540003      0.650755      1.175502    828.128162     442.487355   \n",
       "min        1.000000      1.000000      1.000000    290.000000       0.000000   \n",
       "25%        1.000000      3.000000      7.000000   1190.000000       0.000000   \n",
       "50%        1.500000      3.000000      7.000000   1560.000000       0.000000   \n",
       "75%        2.000000      4.000000      8.000000   2210.000000     560.000000   \n",
       "max        3.500000      5.000000     13.000000   9410.000000    4820.000000   \n",
       "\n",
       "           yr_built  sqft_living15     sqft_lot15  \n",
       "count  21611.000000   21611.000000   21611.000000  \n",
       "mean    1971.007959    1986.559576   12769.025357  \n",
       "std       29.372358     685.416548   27305.369808  \n",
       "min     1900.000000     399.000000     651.000000  \n",
       "25%     1951.000000    1490.000000    5100.000000  \n",
       "50%     1975.000000    1840.000000    7620.000000  \n",
       "75%     1997.000000    2360.000000   10083.500000  \n",
       "max     2015.000000    6210.000000  871200.000000  "
      ]
     },
     "execution_count": 83,
     "metadata": {},
     "output_type": "execute_result"
    }
   ],
   "source": [
    "houseprice_df.describe()"
   ]
  },
  {
   "cell_type": "code",
   "execution_count": 84,
   "metadata": {},
   "outputs": [
    {
     "data": {
      "image/png": "[encoded data removed]",
      "text/plain": [
       "<matplotlib.figure.Figure at 0x7f45d2d30c18>"
      ]
     },
     "metadata": {},
     "output_type": "display_data"
    }
   ],
   "source": [
    "fig, ax = plt.subplots(figsize = (8, 8))\n",
    "\n",
    "plt.scatter(houseprice_df['bedrooms'], houseprice_df['bathrooms'])\n",
    "\n",
    "plt.xlabel('Number of Bedrooms/House')\n",
    "plt.ylabel('Number of bathrooms/bedrooms')\n",
    "plt.show()"
   ]
  },
  {
   "cell_type": "code",
   "execution_count": 85,
   "metadata": {},
   "outputs": [
    {
     "data": {
      "image/png": "[encoded data removed]",
      "text/plain": [
       "<matplotlib.figure.Figure at 0x7f45d2cc3d30>"
      ]
     },
     "metadata": {},
     "output_type": "display_data"
    }
   ],
   "source": [
    "fig, ax = plt.subplots(figsize = (8, 8))\n",
    "\n",
    "plt.scatter(houseprice_df['sqft_living'], houseprice_df['price'])\n",
    "\n",
    "plt.xlabel('square footage of the home')\n",
    "plt.ylabel('price')\n",
    "plt.show()"
   ]
  },
  {
   "cell_type": "code",
   "execution_count": 86,
   "metadata": {},
   "outputs": [
    {
     "data": {
      "image/png": "[encoded data removed]",
      "text/plain": [
       "<matplotlib.figure.Figure at 0x7f45d293a128>"
      ]
     },
     "metadata": {},
     "output_type": "display_data"
    }
   ],
   "source": [
    "fig, ax = plt.subplots(figsize = (8, 8))\n",
    "\n",
    "plt.scatter(houseprice_df['grade'], houseprice_df['price'])\n",
    "\n",
    "plt.xlabel('Grade')\n",
    "plt.ylabel('price')\n",
    "plt.show()"
   ]
  },
  {
   "cell_type": "code",
   "execution_count": 87,
   "metadata": {},
   "outputs": [
    {
     "data": {
      "text/html": [
       "<div>\n",
       "<table border=\"1\" class=\"dataframe\">\n",
       "  <thead>\n",
       "    <tr style=\"text-align: right;\">\n",
       "      <th></th>\n",
       "      <th>price</th>\n",
       "      <th>bedrooms</th>\n",
       "      <th>bathrooms</th>\n",
       "      <th>sqft_living</th>\n",
       "      <th>sqft_lot</th>\n",
       "      <th>floors</th>\n",
       "      <th>condition</th>\n",
       "      <th>grade</th>\n",
       "      <th>sqft_above</th>\n",
       "      <th>sqft_basement</th>\n",
       "      <th>yr_built</th>\n",
       "      <th>sqft_living15</th>\n",
       "      <th>sqft_lot15</th>\n",
       "    </tr>\n",
       "  </thead>\n",
       "  <tbody>\n",
       "    <tr>\n",
       "      <th>price</th>\n",
       "      <td>1.000000</td>\n",
       "      <td>0.308366</td>\n",
       "      <td>0.525150</td>\n",
       "      <td>0.702055</td>\n",
       "      <td>0.089661</td>\n",
       "      <td>0.256814</td>\n",
       "      <td>0.036379</td>\n",
       "      <td>0.667434</td>\n",
       "      <td>0.605567</td>\n",
       "      <td>0.323842</td>\n",
       "      <td>0.054006</td>\n",
       "      <td>0.585377</td>\n",
       "      <td>0.082448</td>\n",
       "    </tr>\n",
       "    <tr>\n",
       "      <th>bedrooms</th>\n",
       "      <td>0.308366</td>\n",
       "      <td>1.000000</td>\n",
       "      <td>0.515974</td>\n",
       "      <td>0.576763</td>\n",
       "      <td>0.031710</td>\n",
       "      <td>0.175418</td>\n",
       "      <td>0.028433</td>\n",
       "      <td>0.356998</td>\n",
       "      <td>0.477616</td>\n",
       "      <td>0.303251</td>\n",
       "      <td>0.154248</td>\n",
       "      <td>0.391670</td>\n",
       "      <td>0.029252</td>\n",
       "    </tr>\n",
       "    <tr>\n",
       "      <th>bathrooms</th>\n",
       "      <td>0.525150</td>\n",
       "      <td>0.515974</td>\n",
       "      <td>1.000000</td>\n",
       "      <td>0.754684</td>\n",
       "      <td>0.087730</td>\n",
       "      <td>0.500712</td>\n",
       "      <td>-0.124917</td>\n",
       "      <td>0.664981</td>\n",
       "      <td>0.685363</td>\n",
       "      <td>0.283737</td>\n",
       "      <td>0.505968</td>\n",
       "      <td>0.568626</td>\n",
       "      <td>0.087163</td>\n",
       "    </tr>\n",
       "    <tr>\n",
       "      <th>sqft_living</th>\n",
       "      <td>0.702055</td>\n",
       "      <td>0.576763</td>\n",
       "      <td>0.754684</td>\n",
       "      <td>1.000000</td>\n",
       "      <td>0.172841</td>\n",
       "      <td>0.354048</td>\n",
       "      <td>-0.058689</td>\n",
       "      <td>0.762727</td>\n",
       "      <td>0.876644</td>\n",
       "      <td>0.434925</td>\n",
       "      <td>0.318066</td>\n",
       "      <td>0.756440</td>\n",
       "      <td>0.183301</td>\n",
       "    </tr>\n",
       "    <tr>\n",
       "      <th>sqft_lot</th>\n",
       "      <td>0.089661</td>\n",
       "      <td>0.031710</td>\n",
       "      <td>0.087730</td>\n",
       "      <td>0.172841</td>\n",
       "      <td>1.000000</td>\n",
       "      <td>-0.005206</td>\n",
       "      <td>-0.008951</td>\n",
       "      <td>0.113617</td>\n",
       "      <td>0.183511</td>\n",
       "      <td>0.015301</td>\n",
       "      <td>0.053061</td>\n",
       "      <td>0.144605</td>\n",
       "      <td>0.718556</td>\n",
       "    </tr>\n",
       "    <tr>\n",
       "      <th>floors</th>\n",
       "      <td>0.256814</td>\n",
       "      <td>0.175418</td>\n",
       "      <td>0.500712</td>\n",
       "      <td>0.354048</td>\n",
       "      <td>-0.005206</td>\n",
       "      <td>1.000000</td>\n",
       "      <td>-0.263808</td>\n",
       "      <td>0.458208</td>\n",
       "      <td>0.523899</td>\n",
       "      <td>-0.245634</td>\n",
       "      <td>0.489361</td>\n",
       "      <td>0.279907</td>\n",
       "      <td>-0.011275</td>\n",
       "    </tr>\n",
       "    <tr>\n",
       "      <th>condition</th>\n",
       "      <td>0.036379</td>\n",
       "      <td>0.028433</td>\n",
       "      <td>-0.124917</td>\n",
       "      <td>-0.058689</td>\n",
       "      <td>-0.008951</td>\n",
       "      <td>-0.263808</td>\n",
       "      <td>1.000000</td>\n",
       "      <td>-0.144647</td>\n",
       "      <td>-0.158206</td>\n",
       "      <td>0.174273</td>\n",
       "      <td>-0.361384</td>\n",
       "      <td>-0.092795</td>\n",
       "      <td>-0.003397</td>\n",
       "    </tr>\n",
       "    <tr>\n",
       "      <th>grade</th>\n",
       "      <td>0.667434</td>\n",
       "      <td>0.356998</td>\n",
       "      <td>0.664981</td>\n",
       "      <td>0.762727</td>\n",
       "      <td>0.113617</td>\n",
       "      <td>0.458208</td>\n",
       "      <td>-0.144647</td>\n",
       "      <td>1.000000</td>\n",
       "      <td>0.755924</td>\n",
       "      <td>0.168375</td>\n",
       "      <td>0.446958</td>\n",
       "      <td>0.713197</td>\n",
       "      <td>0.119243</td>\n",
       "    </tr>\n",
       "    <tr>\n",
       "      <th>sqft_above</th>\n",
       "      <td>0.605567</td>\n",
       "      <td>0.477616</td>\n",
       "      <td>0.685363</td>\n",
       "      <td>0.876644</td>\n",
       "      <td>0.183511</td>\n",
       "      <td>0.523899</td>\n",
       "      <td>-0.158206</td>\n",
       "      <td>0.755924</td>\n",
       "      <td>1.000000</td>\n",
       "      <td>-0.051976</td>\n",
       "      <td>0.423915</td>\n",
       "      <td>0.731871</td>\n",
       "      <td>0.194048</td>\n",
       "    </tr>\n",
       "    <tr>\n",
       "      <th>sqft_basement</th>\n",
       "      <td>0.323842</td>\n",
       "      <td>0.303251</td>\n",
       "      <td>0.283737</td>\n",
       "      <td>0.434925</td>\n",
       "      <td>0.015301</td>\n",
       "      <td>-0.245634</td>\n",
       "      <td>0.174273</td>\n",
       "      <td>0.168375</td>\n",
       "      <td>-0.051976</td>\n",
       "      <td>1.000000</td>\n",
       "      <td>-0.133195</td>\n",
       "      <td>0.200341</td>\n",
       "      <td>0.017292</td>\n",
       "    </tr>\n",
       "    <tr>\n",
       "      <th>yr_built</th>\n",
       "      <td>0.054006</td>\n",
       "      <td>0.154248</td>\n",
       "      <td>0.505968</td>\n",
       "      <td>0.318066</td>\n",
       "      <td>0.053061</td>\n",
       "      <td>0.489361</td>\n",
       "      <td>-0.361384</td>\n",
       "      <td>0.446958</td>\n",
       "      <td>0.423915</td>\n",
       "      <td>-0.133195</td>\n",
       "      <td>1.000000</td>\n",
       "      <td>0.326214</td>\n",
       "      <td>0.070936</td>\n",
       "    </tr>\n",
       "    <tr>\n",
       "      <th>sqft_living15</th>\n",
       "      <td>0.585377</td>\n",
       "      <td>0.391670</td>\n",
       "      <td>0.568626</td>\n",
       "      <td>0.756440</td>\n",
       "      <td>0.144605</td>\n",
       "      <td>0.279907</td>\n",
       "      <td>-0.092795</td>\n",
       "      <td>0.713197</td>\n",
       "      <td>0.731871</td>\n",
       "      <td>0.200341</td>\n",
       "      <td>0.326214</td>\n",
       "      <td>1.000000</td>\n",
       "      <td>0.183188</td>\n",
       "    </tr>\n",
       "    <tr>\n",
       "      <th>sqft_lot15</th>\n",
       "      <td>0.082448</td>\n",
       "      <td>0.029252</td>\n",
       "      <td>0.087163</td>\n",
       "      <td>0.183301</td>\n",
       "      <td>0.718556</td>\n",
       "      <td>-0.011275</td>\n",
       "      <td>-0.003397</td>\n",
       "      <td>0.119243</td>\n",
       "      <td>0.194048</td>\n",
       "      <td>0.017292</td>\n",
       "      <td>0.070936</td>\n",
       "      <td>0.183188</td>\n",
       "      <td>1.000000</td>\n",
       "    </tr>\n",
       "  </tbody>\n",
       "</table>\n",
       "</div>"
      ],
      "text/plain": [
       "                  price  bedrooms  bathrooms  sqft_living  sqft_lot    floors  \\\n",
       "price          1.000000  0.308366   0.525150     0.702055  0.089661  0.256814   \n",
       "bedrooms       0.308366  1.000000   0.515974     0.576763  0.031710  0.175418   \n",
       "bathrooms      0.525150  0.515974   1.000000     0.754684  0.087730  0.500712   \n",
       "sqft_living    0.702055  0.576763   0.754684     1.000000  0.172841  0.354048   \n",
       "sqft_lot       0.089661  0.031710   0.087730     0.172841  1.000000 -0.005206   \n",
       "floors         0.256814  0.175418   0.500712     0.354048 -0.005206  1.000000   \n",
       "condition      0.036379  0.028433  -0.124917    -0.058689 -0.008951 -0.263808   \n",
       "grade          0.667434  0.356998   0.664981     0.762727  0.113617  0.458208   \n",
       "sqft_above     0.605567  0.477616   0.685363     0.876644  0.183511  0.523899   \n",
       "sqft_basement  0.323842  0.303251   0.283737     0.434925  0.015301 -0.245634   \n",
       "yr_built       0.054006  0.154248   0.505968     0.318066  0.053061  0.489361   \n",
       "sqft_living15  0.585377  0.391670   0.568626     0.756440  0.144605  0.279907   \n",
       "sqft_lot15     0.082448  0.029252   0.087163     0.183301  0.718556 -0.011275   \n",
       "\n",
       "               condition     grade  sqft_above  sqft_basement  yr_built  \\\n",
       "price           0.036379  0.667434    0.605567       0.323842  0.054006   \n",
       "bedrooms        0.028433  0.356998    0.477616       0.303251  0.154248   \n",
       "bathrooms      -0.124917  0.664981    0.685363       0.283737  0.505968   \n",
       "sqft_living    -0.058689  0.762727    0.876644       0.434925  0.318066   \n",
       "sqft_lot       -0.008951  0.113617    0.183511       0.015301  0.053061   \n",
       "floors         -0.263808  0.458208    0.523899      -0.245634  0.489361   \n",
       "condition       1.000000 -0.144647   -0.158206       0.174273 -0.361384   \n",
       "grade          -0.144647  1.000000    0.755924       0.168375  0.446958   \n",
       "sqft_above     -0.158206  0.755924    1.000000      -0.051976  0.423915   \n",
       "sqft_basement   0.174273  0.168375   -0.051976       1.000000 -0.133195   \n",
       "yr_built       -0.361384  0.446958    0.423915      -0.133195  1.000000   \n",
       "sqft_living15  -0.092795  0.713197    0.731871       0.200341  0.326214   \n",
       "sqft_lot15     -0.003397  0.119243    0.194048       0.017292  0.070936   \n",
       "\n",
       "               sqft_living15  sqft_lot15  \n",
       "price               0.585377    0.082448  \n",
       "bedrooms            0.391670    0.029252  \n",
       "bathrooms           0.568626    0.087163  \n",
       "sqft_living         0.756440    0.183301  \n",
       "sqft_lot            0.144605    0.718556  \n",
       "floors              0.279907   -0.011275  \n",
       "condition          -0.092795   -0.003397  \n",
       "grade               0.713197    0.119243  \n",
       "sqft_above          0.731871    0.194048  \n",
       "sqft_basement       0.200341    0.017292  \n",
       "yr_built            0.326214    0.070936  \n",
       "sqft_living15       1.000000    0.183188  \n",
       "sqft_lot15          0.183188    1.000000  "
      ]
     },
     "execution_count": 87,
     "metadata": {},
     "output_type": "execute_result"
    }
   ],
   "source": [
    "houseprice_corr = houseprice_df.corr()\n",
    "\n",
    "houseprice_corr"
   ]
  },
  {
   "cell_type": "code",
   "execution_count": 88,
   "metadata": {
    "scrolled": true
   },
   "outputs": [
    {
     "data": {
      "image/png": "[encoded data removed]",
      "text/plain": [
       "<matplotlib.figure.Figure at 0x7f45d2ccb898>"
      ]
     },
     "metadata": {},
     "output_type": "display_data"
    }
   ],
   "source": [
    "fig, ax = plt.subplots(figsize = (8, 8))\n",
    "\n",
    "sns.heatmap(houseprice_corr, annot=True)\n",
    "plt.show()"
   ]
  },
  {
   "cell_type": "markdown",
   "metadata": {},
   "source": [
    "### Build and Train the Model"
   ]
  },
  {
   "cell_type": "code",
   "execution_count": 89,
   "metadata": {},
   "outputs": [],
   "source": [
    "Y = houseprice_df['price']"
   ]
  },
  {
   "cell_type": "code",
   "execution_count": 90,
   "metadata": {},
   "outputs": [],
   "source": [
    "X = houseprice_df.drop('price', axis = 1)"
   ]
  },
  {
   "cell_type": "code",
   "execution_count": 91,
   "metadata": {},
   "outputs": [],
   "source": [
    "x_train, x_test, y_train, y_test = train_test_split(X, Y, test_size=0.4)"
   ]
  },
  {
   "cell_type": "code",
   "execution_count": 92,
   "metadata": {},
   "outputs": [
    {
     "data": {
      "text/plain": [
       "((12966, 15), (12966,))"
      ]
     },
     "execution_count": 92,
     "metadata": {},
     "output_type": "execute_result"
    }
   ],
   "source": [
    "x_train.shape, y_train.shape"
   ]
  },
  {
   "cell_type": "code",
   "execution_count": 93,
   "metadata": {},
   "outputs": [
    {
     "data": {
      "text/plain": [
       "((8645, 15), (8645,))"
      ]
     },
     "execution_count": 93,
     "metadata": {},
     "output_type": "execute_result"
    }
   ],
   "source": [
    "x_test.shape, y_test.shape"
   ]
  },
  {
   "cell_type": "code",
   "execution_count": 94,
   "metadata": {},
   "outputs": [
    {
     "data": {
      "text/plain": [
       "0.64508703578689564"
      ]
     },
     "execution_count": 94,
     "metadata": {},
     "output_type": "execute_result"
    }
   ],
   "source": [
    "reg = LinearRegression().fit(x_train, y_train)\n",
    "reg.score(x_test, y_test)"
   ]
  },
  {
   "cell_type": "markdown",
   "metadata": {},
   "source": [
    "### Demo m3d2 : Cross Validation\n",
    "By default scoring is \"r2\" for regression in cross_val_score and cv=5 means it is using 5-fold cross validation."
   ]
  },
  {
   "cell_type": "code",
   "execution_count": 1,
   "metadata": {},
   "outputs": [],
   "source": [
    "from sklearn.model_selection import cross_val_score"
   ]
  },
  {
   "cell_type": "code",
   "execution_count": 2,
   "metadata": {},
   "outputs": [
    {
     "ename": "NameError",
     "evalue": "name 'LinearRegression' is not defined",
     "output_type": "error",
     "traceback": [
      "\u001b[0;31m---------------------------------------------------------------------------\u001b[0m",
      "\u001b[0;31mNameError\u001b[0m                                 Traceback (most recent call last)",
      "\u001b[0;32m<ipython-input-2-87db393772d1>\u001b[0m in \u001b[0;36m<module>\u001b[0;34m()\u001b[0m\n\u001b[0;32m----> 1\u001b[0;31m \u001b[0mreg\u001b[0m \u001b[0;34m=\u001b[0m \u001b[0mLinearRegression\u001b[0m\u001b[0;34m(\u001b[0m\u001b[0;34m)\u001b[0m\u001b[0;34m\u001b[0m\u001b[0;34m\u001b[0m\u001b[0m\n\u001b[0m\u001b[1;32m      2\u001b[0m \u001b[0;34m\u001b[0m\u001b[0m\n\u001b[1;32m      3\u001b[0m \u001b[0mscores\u001b[0m \u001b[0;34m=\u001b[0m \u001b[0mcross_val_score\u001b[0m\u001b[0;34m(\u001b[0m\u001b[0mreg\u001b[0m\u001b[0;34m,\u001b[0m \u001b[0mX\u001b[0m\u001b[0;34m,\u001b[0m \u001b[0mY\u001b[0m\u001b[0;34m,\u001b[0m \u001b[0mcv\u001b[0m\u001b[0;34m=\u001b[0m\u001b[0;36m5\u001b[0m\u001b[0;34m,\u001b[0m \u001b[0mscoring\u001b[0m\u001b[0;34m=\u001b[0m\u001b[0;34m'r2'\u001b[0m\u001b[0;34m)\u001b[0m\u001b[0;34m\u001b[0m\u001b[0;34m\u001b[0m\u001b[0m\n",
      "\u001b[0;31mNameError\u001b[0m: name 'LinearRegression' is not defined"
     ]
    }
   ],
   "source": [
    "reg = LinearRegression()\n",
    "\n",
    "scores = cross_val_score(reg, X, Y, cv=5, scoring='r2')"
   ]
  },
  {
   "cell_type": "markdown",
   "metadata": {},
   "source": [
    "Here are the scoring types that we can use in cross_val_score method for regression and classification."
   ]
  },
  {
   "cell_type": "code",
   "execution_count": 3,
   "metadata": {},
   "outputs": [
    {
     "ename": "NameError",
     "evalue": "name 'sklearn' is not defined",
     "output_type": "error",
     "traceback": [
      "\u001b[0;31m---------------------------------------------------------------------------\u001b[0m",
      "\u001b[0;31mNameError\u001b[0m                                 Traceback (most recent call last)",
      "\u001b[0;32m<ipython-input-3-6a62311f31b1>\u001b[0m in \u001b[0;36m<module>\u001b[0;34m()\u001b[0m\n\u001b[0;32m----> 1\u001b[0;31m \u001b[0mprint\u001b[0m\u001b[0;34m(\u001b[0m\u001b[0msklearn\u001b[0m\u001b[0;34m.\u001b[0m\u001b[0mmetrics\u001b[0m\u001b[0;34m.\u001b[0m\u001b[0mSCORERS\u001b[0m\u001b[0;34m.\u001b[0m\u001b[0mkeys\u001b[0m\u001b[0;34m(\u001b[0m\u001b[0;34m)\u001b[0m\u001b[0;34m)\u001b[0m\u001b[0;34m\u001b[0m\u001b[0;34m\u001b[0m\u001b[0m\n\u001b[0m",
      "\u001b[0;31mNameError\u001b[0m: name 'sklearn' is not defined"
     ]
    }
   ],
   "source": [
    "print(sklearn.metrics.SCORERS.keys())"
   ]
  },
  {
   "cell_type": "code",
   "execution_count": 98,
   "metadata": {},
   "outputs": [
    {
     "data": {
      "text/plain": [
       "array([ 0.65605518,  0.65077556,  0.64342074,  0.65808578,  0.62575563])"
      ]
     },
     "execution_count": 98,
     "metadata": {},
     "output_type": "execute_result"
    }
   ],
   "source": [
    "scores"
   ]
  },
  {
   "cell_type": "code",
   "execution_count": null,
   "metadata": {},
   "outputs": [],
   "source": []
  }
 ],
 "metadata": {
  "kernelspec": {
   "display_name": "Python 3",
   "language": "python",
   "name": "python3"
  },
  "language_info": {
   "codemirror_mode": {
    "name": "ipython",
    "version": 3
   },
   "file_extension": ".py",
   "mimetype": "text/x-python",
   "name": "python",
   "nbconvert_exporter": "python",
   "pygments_lexer": "ipython3",
   "version": "3.6.8"
  }
 },
 "nbformat": 4,
 "nbformat_minor": 1
}
