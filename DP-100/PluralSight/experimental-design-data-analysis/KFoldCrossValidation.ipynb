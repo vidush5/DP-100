{
 "cells": [
  {
   "cell_type": "markdown",
   "metadata": {},
   "source": [
    "### Import Libraries"
   ]
  },
  {
   "cell_type": "code",
   "execution_count": 1,
   "metadata": {},
   "outputs": [],
   "source": [
    "import sklearn \n",
    "\n",
    "import numpy as np\n",
    "import pandas as pd\n",
    "\n",
    "from sklearn.linear_model import LinearRegression\n",
    "from sklearn.model_selection import KFold, cross_val_score"
   ]
  },
  {
   "cell_type": "markdown",
   "metadata": {},
   "source": [
    "### Load Data"
   ]
  },
  {
   "cell_type": "code",
   "execution_count": 2,
   "metadata": {},
   "outputs": [],
   "source": [
    "from azureml import Workspace\n",
    "\n",
    "ws = Workspace()\n",
    "ds = ws.datasets['houseprice_data']\n",
    "\n",
    "houseprice_df = ds.to_dataframe()"
   ]
  },
  {
   "cell_type": "code",
   "execution_count": 3,
   "metadata": {},
   "outputs": [],
   "source": [
    "Y = (np.array(houseprice_df['price'], dtype='float64')).reshape(-1, 1)"
   ]
  },
  {
   "cell_type": "code",
   "execution_count": 4,
   "metadata": {},
   "outputs": [],
   "source": [
    "X = houseprice_df.drop('price', axis = 1)\n",
    "\n",
    "X = np.array(X)"
   ]
  },
  {
   "cell_type": "code",
   "execution_count": 5,
   "metadata": {},
   "outputs": [
    {
     "data": {
      "text/plain": [
       "((21611, 15), (21611, 1))"
      ]
     },
     "execution_count": 5,
     "metadata": {},
     "output_type": "execute_result"
    }
   ],
   "source": [
    "X.shape, Y.shape"
   ]
  },
  {
   "cell_type": "markdown",
   "metadata": {},
   "source": [
    "### Kfold Cross Validation\n",
    "https://scikit-learn.org/stable/modules/generated/sklearn.model_selection.KFold.html    \n",
    "Provides train/test indices to split data in train/test sets. Split dataset into k consecutive folds (without shuffling by default)"
   ]
  },
  {
   "cell_type": "code",
   "execution_count": 6,
   "metadata": {},
   "outputs": [
    {
     "data": {
      "text/plain": [
       "[(array([ 7204,  7205,  7206, ..., 21608, 21609, 21610]),\n",
       "  array([   0,    1,    2, ..., 7201, 7202, 7203])),\n",
       " (array([    0,     1,     2, ..., 21608, 21609, 21610]),\n",
       "  array([ 7204,  7205,  7206, ..., 14405, 14406, 14407])),\n",
       " (array([    0,     1,     2, ..., 14405, 14406, 14407]),\n",
       "  array([14408, 14409, 14410, ..., 21608, 21609, 21610]))]"
      ]
     },
     "execution_count": 6,
     "metadata": {},
     "output_type": "execute_result"
    }
   ],
   "source": [
    "kf = KFold(n_splits=3)\n",
    "\n",
    "list(kf.split(X))"
   ]
  },
  {
   "cell_type": "code",
   "execution_count": 7,
   "metadata": {},
   "outputs": [
    {
     "name": "stdout",
     "output_type": "stream",
     "text": [
      "\n",
      "Train1 [ 7204  7205  7206 ..., 21608 21609 21610]\n",
      "Test1 [   0    1    2 ..., 7201 7202 7203]\n",
      "\n",
      "Train2 [    0     1     2 ..., 21608 21609 21610]\n",
      "Test2 [ 7204  7205  7206 ..., 14405 14406 14407]\n",
      "\n",
      "Train3 [    0     1     2 ..., 14405 14406 14407]\n",
      "Test3 [14408 14409 14410 ..., 21608 21609 21610]\n"
     ]
    }
   ],
   "source": [
    "i = 1\n",
    "\n",
    "for train, test in kf.split(X):\n",
    "    print(\"\\nTrain\" + str(i), train)\n",
    "    print(\"Test\" + str(i), test)\n",
    "    \n",
    "    i += 1"
   ]
  },
  {
   "cell_type": "markdown",
   "metadata": {},
   "source": [
    "#### Length of testing data will be 3rd part of the whole data. Here in this case it will be 100/3 = 33"
   ]
  },
  {
   "cell_type": "code",
   "execution_count": 8,
   "metadata": {},
   "outputs": [
    {
     "data": {
      "text/plain": [
       "(21611, 14408, 7203)"
      ]
     },
     "execution_count": 8,
     "metadata": {},
     "output_type": "execute_result"
    }
   ],
   "source": [
    "len(X), len(train), len(test)"
   ]
  },
  {
   "cell_type": "code",
   "execution_count": 9,
   "metadata": {},
   "outputs": [
    {
     "name": "stdout",
     "output_type": "stream",
     "text": [
      "\n",
      "Train1 [ 5403  5404  5405 ..., 21608 21609 21610]\n",
      "Test1 [   0    1    2 ..., 5400 5401 5402]\n",
      "\n",
      "Train2 [    0     1     2 ..., 21608 21609 21610]\n",
      "Test2 [ 5403  5404  5405 ..., 10803 10804 10805]\n",
      "\n",
      "Train3 [    0     1     2 ..., 21608 21609 21610]\n",
      "Test3 [10806 10807 10808 ..., 16206 16207 16208]\n",
      "\n",
      "Train4 [    0     1     2 ..., 16206 16207 16208]\n",
      "Test4 [16209 16210 16211 ..., 21608 21609 21610]\n"
     ]
    }
   ],
   "source": [
    "kf = KFold(n_splits=4)\n",
    "\n",
    "i = 1\n",
    "\n",
    "for train, test in kf.split(X):\n",
    "    print(\"\\nTrain\" + str(i), train)\n",
    "    print(\"Test\" + str(i), test)\n",
    "    \n",
    "    i += 1"
   ]
  },
  {
   "cell_type": "code",
   "execution_count": 10,
   "metadata": {},
   "outputs": [
    {
     "data": {
      "text/plain": [
       "(21611, 16209, 5402)"
      ]
     },
     "execution_count": 10,
     "metadata": {},
     "output_type": "execute_result"
    }
   ],
   "source": [
    "len(X), len(train), len(test)"
   ]
  },
  {
   "cell_type": "code",
   "execution_count": 11,
   "metadata": {},
   "outputs": [
    {
     "name": "stdout",
     "output_type": "stream",
     "text": [
      "\n",
      "Train1 [ 1441  1442  1443 ..., 21608 21609 21610]\n",
      "Test1 [   0    1    2 ..., 1438 1439 1440]\n",
      "\n",
      "Train2 [    0     1     2 ..., 21608 21609 21610]\n",
      "Test2 [1441 1442 1443 ..., 2879 2880 2881]\n",
      "\n",
      "Train3 [    0     1     2 ..., 21608 21609 21610]\n",
      "Test3 [2882 2883 2884 ..., 4320 4321 4322]\n",
      "\n",
      "Train4 [    0     1     2 ..., 21608 21609 21610]\n",
      "Test4 [4323 4324 4325 ..., 5761 5762 5763]\n",
      "\n",
      "Train5 [    0     1     2 ..., 21608 21609 21610]\n",
      "Test5 [5764 5765 5766 ..., 7202 7203 7204]\n",
      "\n",
      "Train6 [    0     1     2 ..., 21608 21609 21610]\n",
      "Test6 [7205 7206 7207 ..., 8643 8644 8645]\n",
      "\n",
      "Train7 [    0     1     2 ..., 21608 21609 21610]\n",
      "Test7 [ 8646  8647  8648 ..., 10084 10085 10086]\n",
      "\n",
      "Train8 [    0     1     2 ..., 21608 21609 21610]\n",
      "Test8 [10087 10088 10089 ..., 11525 11526 11527]\n",
      "\n",
      "Train9 [    0     1     2 ..., 21608 21609 21610]\n",
      "Test9 [11528 11529 11530 ..., 12966 12967 12968]\n",
      "\n",
      "Train10 [    0     1     2 ..., 21608 21609 21610]\n",
      "Test10 [12969 12970 12971 ..., 14407 14408 14409]\n",
      "\n",
      "Train11 [    0     1     2 ..., 21608 21609 21610]\n",
      "Test11 [14410 14411 14412 ..., 15848 15849 15850]\n",
      "\n",
      "Train12 [    0     1     2 ..., 21608 21609 21610]\n",
      "Test12 [15851 15852 15853 ..., 17288 17289 17290]\n",
      "\n",
      "Train13 [    0     1     2 ..., 21608 21609 21610]\n",
      "Test13 [17291 17292 17293 ..., 18728 18729 18730]\n",
      "\n",
      "Train14 [    0     1     2 ..., 21608 21609 21610]\n",
      "Test14 [18731 18732 18733 ..., 20168 20169 20170]\n",
      "\n",
      "Train15 [    0     1     2 ..., 20168 20169 20170]\n",
      "Test15 [20171 20172 20173 ..., 21608 21609 21610]\n"
     ]
    }
   ],
   "source": [
    "kf = KFold(n_splits=15)\n",
    "i = 1\n",
    "\n",
    "for train, test in kf.split(X):\n",
    "    print(\"\\nTrain\" + str(i), train)\n",
    "    print(\"Test\" + str(i), test)\n",
    "    \n",
    "    i += 1"
   ]
  },
  {
   "cell_type": "code",
   "execution_count": 12,
   "metadata": {},
   "outputs": [
    {
     "data": {
      "text/plain": [
       "(21611, 20171, 1440)"
      ]
     },
     "execution_count": 12,
     "metadata": {},
     "output_type": "execute_result"
    }
   ],
   "source": [
    "len(X), len(train), len(test)"
   ]
  },
  {
   "cell_type": "code",
   "execution_count": 13,
   "metadata": {},
   "outputs": [
    {
     "data": {
      "text/plain": [
       "[(array([10806, 10807, 10808, ..., 21608, 21609, 21610]),\n",
       "  array([    0,     1,     2, ..., 10803, 10804, 10805])),\n",
       " (array([    0,     1,     2, ..., 10803, 10804, 10805]),\n",
       "  array([10806, 10807, 10808, ..., 21608, 21609, 21610]))]"
      ]
     },
     "execution_count": 13,
     "metadata": {},
     "output_type": "execute_result"
    }
   ],
   "source": [
    "kf = KFold(n_splits=2)\n",
    "\n",
    "indices_list = list(kf.split(X))\n",
    "indices_list"
   ]
  },
  {
   "cell_type": "code",
   "execution_count": 14,
   "metadata": {},
   "outputs": [
    {
     "data": {
      "text/plain": [
       "(array([10806, 10807, 10808, ..., 21608, 21609, 21610]),\n",
       " array([    0,     1,     2, ..., 10803, 10804, 10805]))"
      ]
     },
     "execution_count": 14,
     "metadata": {},
     "output_type": "execute_result"
    }
   ],
   "source": [
    "indices_list[0]"
   ]
  },
  {
   "cell_type": "markdown",
   "metadata": {},
   "source": [
    "#### Taking the indices stoing the values of training and testing data into the variables."
   ]
  },
  {
   "cell_type": "code",
   "execution_count": 15,
   "metadata": {},
   "outputs": [],
   "source": [
    "x_train1, y_train1 = X[indices_list[0][0]], Y[indices_list[0][0]]\n",
    "x_test1, y_test1 = X[indices_list[0][1]], Y[indices_list[0][1]]\n",
    "\n",
    "x_train2, y_train2 = X[indices_list[1][0]], Y[indices_list[1][0]]\n",
    "x_test2, y_test2 = X[indices_list[1][1]], Y[indices_list[1][1]]"
   ]
  },
  {
   "cell_type": "code",
   "execution_count": 16,
   "metadata": {},
   "outputs": [
    {
     "data": {
      "text/plain": [
       "((10805, 15), (10805, 1))"
      ]
     },
     "execution_count": 16,
     "metadata": {},
     "output_type": "execute_result"
    }
   ],
   "source": [
    "x_train1.shape, y_train1.shape"
   ]
  },
  {
   "cell_type": "code",
   "execution_count": 17,
   "metadata": {},
   "outputs": [
    {
     "data": {
      "text/plain": [
       "((10806, 15), (10806, 1))"
      ]
     },
     "execution_count": 17,
     "metadata": {},
     "output_type": "execute_result"
    }
   ],
   "source": [
    "x_test1.shape, y_test1.shape"
   ]
  },
  {
   "cell_type": "code",
   "execution_count": 18,
   "metadata": {},
   "outputs": [
    {
     "data": {
      "text/plain": [
       "((10806, 15), (10806, 1))"
      ]
     },
     "execution_count": 18,
     "metadata": {},
     "output_type": "execute_result"
    }
   ],
   "source": [
    "x_train2.shape, y_train2.shape"
   ]
  },
  {
   "cell_type": "code",
   "execution_count": 19,
   "metadata": {},
   "outputs": [
    {
     "data": {
      "text/plain": [
       "((10805, 15), (10805, 1))"
      ]
     },
     "execution_count": 19,
     "metadata": {},
     "output_type": "execute_result"
    }
   ],
   "source": [
    "x_test2.shape, y_test2.shape"
   ]
  },
  {
   "cell_type": "markdown",
   "metadata": {},
   "source": [
    "#### Now, we will do the linear regression on the both subset and check wheather the cross validation score is same or not."
   ]
  },
  {
   "cell_type": "code",
   "execution_count": 20,
   "metadata": {},
   "outputs": [
    {
     "data": {
      "text/plain": [
       "0.64555076379427345"
      ]
     },
     "execution_count": 20,
     "metadata": {},
     "output_type": "execute_result"
    }
   ],
   "source": [
    "reg = LinearRegression().fit(x_train1, y_train1)\n",
    "\n",
    "reg.score(x_test1, y_test1)"
   ]
  },
  {
   "cell_type": "code",
   "execution_count": 21,
   "metadata": {},
   "outputs": [
    {
     "data": {
      "text/plain": [
       "0.64425185694420173"
      ]
     },
     "execution_count": 21,
     "metadata": {},
     "output_type": "execute_result"
    }
   ],
   "source": [
    "reg = LinearRegression().fit(x_train2, y_train2)\n",
    "\n",
    "reg.score(x_test2, y_test2)"
   ]
  },
  {
   "cell_type": "code",
   "execution_count": 22,
   "metadata": {},
   "outputs": [
    {
     "data": {
      "text/plain": [
       "array([ 0.64555076,  0.64425186])"
      ]
     },
     "execution_count": 22,
     "metadata": {},
     "output_type": "execute_result"
    }
   ],
   "source": [
    "cross_val_score(reg, X, Y, cv=2)"
   ]
  },
  {
   "cell_type": "code",
   "execution_count": null,
   "metadata": {},
   "outputs": [],
   "source": []
  }
 ],
 "metadata": {
  "kernelspec": {
   "display_name": "Python 3",
   "language": "python",
   "name": "python3"
  },
  "language_info": {
   "codemirror_mode": {
    "name": "ipython",
    "version": 3
   },
   "file_extension": ".py",
   "mimetype": "text/x-python",
   "name": "python",
   "nbconvert_exporter": "python",
   "pygments_lexer": "ipython3",
   "version": "3.6.8"
  }
 },
 "nbformat": 4,
 "nbformat_minor": 2
}
