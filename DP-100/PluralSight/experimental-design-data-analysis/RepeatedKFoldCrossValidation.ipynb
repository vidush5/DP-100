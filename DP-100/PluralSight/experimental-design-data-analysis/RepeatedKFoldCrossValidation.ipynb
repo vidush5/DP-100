{
 "cells": [
  {
   "cell_type": "markdown",
   "metadata": {},
   "source": [
    "### Import Libraries"
   ]
  },
  {
   "cell_type": "code",
   "execution_count": 1,
   "metadata": {},
   "outputs": [],
   "source": [
    "import sklearn \n",
    "\n",
    "import numpy as np\n",
    "import pandas as pd\n",
    "\n",
    "from sklearn.linear_model import LinearRegression\n",
    "from sklearn.model_selection import RepeatedKFold, cross_val_score"
   ]
  },
  {
   "cell_type": "markdown",
   "metadata": {},
   "source": [
    "### Load Data"
   ]
  },
  {
   "cell_type": "code",
   "execution_count": 2,
   "metadata": {},
   "outputs": [],
   "source": [
    "from azureml import Workspace\n",
    "\n",
    "ws = Workspace()\n",
    "ds = ws.datasets['houseprice_data']\n",
    "houseprice_df = ds.to_dataframe()"
   ]
  },
  {
   "cell_type": "code",
   "execution_count": 3,
   "metadata": {},
   "outputs": [],
   "source": [
    "Y = (np.array(houseprice_df['price'], dtype='float64')).reshape(-1,1)"
   ]
  },
  {
   "cell_type": "code",
   "execution_count": 4,
   "metadata": {},
   "outputs": [],
   "source": [
    "X = houseprice_df.drop('price', axis = 1)\n",
    "X = np.array(X)"
   ]
  },
  {
   "cell_type": "markdown",
   "metadata": {},
   "source": [
    "### Repeated KFold Cross Validation\n",
    "https://scikit-learn.org/stable/modules/generated/sklearn.model_selection.RepeatedKFold.html"
   ]
  },
  {
   "cell_type": "code",
   "execution_count": 5,
   "metadata": {},
   "outputs": [
    {
     "data": {
      "text/plain": [
       "[(array([    4,     6,    10, ..., 21602, 21604, 21607]),\n",
       "  array([    0,     1,     2, ..., 21608, 21609, 21610])),\n",
       " (array([    0,     1,     2, ..., 21608, 21609, 21610]),\n",
       "  array([    4,     6,    10, ..., 21602, 21604, 21607])),\n",
       " (array([    3,     4,     5, ..., 21606, 21607, 21608]),\n",
       "  array([    0,     1,     2, ..., 21604, 21609, 21610])),\n",
       " (array([    0,     1,     2, ..., 21604, 21609, 21610]),\n",
       "  array([    3,     4,     5, ..., 21606, 21607, 21608]))]"
      ]
     },
     "execution_count": 5,
     "metadata": {},
     "output_type": "execute_result"
    }
   ],
   "source": [
    "rkf = RepeatedKFold(n_splits=2, n_repeats=2, random_state=0)\n",
    "\n",
    "list(rkf.split(X))"
   ]
  },
  {
   "cell_type": "code",
   "execution_count": 6,
   "metadata": {},
   "outputs": [
    {
     "name": "stdout",
     "output_type": "stream",
     "text": [
      "\n",
      "Train1 [    4     6    10 ..., 21602 21604 21607]\n",
      "Test1 [    0     1     2 ..., 21608 21609 21610]\n",
      "\n",
      "Train2 [    0     1     2 ..., 21608 21609 21610]\n",
      "Test2 [    4     6    10 ..., 21602 21604 21607]\n",
      "\n",
      "Train3 [    3     4     5 ..., 21606 21607 21608]\n",
      "Test3 [    0     1     2 ..., 21604 21609 21610]\n",
      "\n",
      "Train4 [    0     1     2 ..., 21604 21609 21610]\n",
      "Test4 [    3     4     5 ..., 21606 21607 21608]\n"
     ]
    }
   ],
   "source": [
    "i = 1\n",
    "\n",
    "for train, test in rkf.split(X):\n",
    "    print(\"\\nTrain\" + str(i), train)\n",
    "    print(\"Test\" + str(i), test)\n",
    "    \n",
    "    i += 1"
   ]
  },
  {
   "cell_type": "code",
   "execution_count": 7,
   "metadata": {},
   "outputs": [
    {
     "data": {
      "text/plain": [
       "(21611, 10806, 10805)"
      ]
     },
     "execution_count": 7,
     "metadata": {},
     "output_type": "execute_result"
    }
   ],
   "source": [
    "len(X), len(train), len(test)"
   ]
  },
  {
   "cell_type": "markdown",
   "metadata": {},
   "source": [
    "Here we are not changing the n_splits values so the length of training and testing data will still remain same."
   ]
  },
  {
   "cell_type": "code",
   "execution_count": 8,
   "metadata": {},
   "outputs": [
    {
     "name": "stdout",
     "output_type": "stream",
     "text": [
      "\n",
      "Train1 [    4     6    10 ..., 21602 21604 21607]\n",
      "Test1 [    0     1     2 ..., 21608 21609 21610]\n",
      "\n",
      "Train2 [    0     1     2 ..., 21608 21609 21610]\n",
      "Test2 [    4     6    10 ..., 21602 21604 21607]\n",
      "\n",
      "Train3 [    3     4     5 ..., 21606 21607 21608]\n",
      "Test3 [    0     1     2 ..., 21604 21609 21610]\n",
      "\n",
      "Train4 [    0     1     2 ..., 21604 21609 21610]\n",
      "Test4 [    3     4     5 ..., 21606 21607 21608]\n",
      "\n",
      "Train5 [    0     4     5 ..., 21604 21606 21610]\n",
      "Test5 [    1     2     3 ..., 21607 21608 21609]\n",
      "\n",
      "Train6 [    1     2     3 ..., 21607 21608 21609]\n",
      "Test6 [    0     4     5 ..., 21604 21606 21610]\n"
     ]
    }
   ],
   "source": [
    "rkf = RepeatedKFold(n_splits=2, n_repeats=3, random_state=0)\n",
    "i = 1\n",
    "\n",
    "for train, test in rkf.split(X):\n",
    "    print(\"\\nTrain\" + str(i), train)\n",
    "    print(\"Test\" + str(i), test)\n",
    "    \n",
    "    i += 1"
   ]
  },
  {
   "cell_type": "code",
   "execution_count": 9,
   "metadata": {},
   "outputs": [
    {
     "data": {
      "text/plain": [
       "(21611, 10806, 10805)"
      ]
     },
     "execution_count": 9,
     "metadata": {},
     "output_type": "execute_result"
    }
   ],
   "source": [
    "len(X), len(train), len(test)"
   ]
  },
  {
   "cell_type": "code",
   "execution_count": 10,
   "metadata": {},
   "outputs": [
    {
     "name": "stdout",
     "output_type": "stream",
     "text": [
      "\n",
      "Train1 [    0     2     3 ..., 21607 21609 21610]\n",
      "Test1 [    1     7     8 ..., 21600 21601 21608]\n",
      "\n",
      "Train2 [    1     4     6 ..., 21604 21607 21608]\n",
      "Test2 [    0     2     3 ..., 21606 21609 21610]\n",
      "\n",
      "Train3 [    0     1     2 ..., 21608 21609 21610]\n",
      "Test3 [    4     6    10 ..., 21594 21604 21607]\n",
      "\n",
      "Train4 [    3     4     5 ..., 21607 21608 21609]\n",
      "Test4 [    0     1     2 ..., 21602 21604 21610]\n",
      "\n",
      "Train5 [    0     1     2 ..., 21607 21608 21610]\n",
      "Test5 [    4     8     9 ..., 21600 21601 21609]\n",
      "\n",
      "Train6 [    0     1     2 ..., 21604 21609 21610]\n",
      "Test6 [    3     5     7 ..., 21606 21607 21608]\n",
      "\n",
      "Train7 [    0     2     4 ..., 21606 21609 21610]\n",
      "Test7 [    1     3     9 ..., 21603 21607 21608]\n",
      "\n",
      "Train8 [    0     1     3 ..., 21606 21607 21608]\n",
      "Test8 [    2     4     8 ..., 21605 21609 21610]\n",
      "\n",
      "Train9 [    1     2     3 ..., 21608 21609 21610]\n",
      "Test9 [    0     5     6 ..., 21598 21599 21606]\n"
     ]
    }
   ],
   "source": [
    "rkf = RepeatedKFold(n_splits=3, n_repeats=3, random_state=0)\n",
    "i = 1\n",
    "\n",
    "for train, test in rkf.split(X):\n",
    "    print(\"\\nTrain\" + str(i), train)\n",
    "    print(\"Test\" + str(i), test)\n",
    "    \n",
    "    i += 1"
   ]
  },
  {
   "cell_type": "code",
   "execution_count": 11,
   "metadata": {},
   "outputs": [
    {
     "data": {
      "text/plain": [
       "(21611, 14408, 7203)"
      ]
     },
     "execution_count": 11,
     "metadata": {},
     "output_type": "execute_result"
    }
   ],
   "source": [
    "len(X), len(train), len(test)"
   ]
  },
  {
   "cell_type": "code",
   "execution_count": 12,
   "metadata": {},
   "outputs": [
    {
     "data": {
      "text/plain": [
       "[(array([    4,     6,    10, ..., 21602, 21604, 21607]),\n",
       "  array([    0,     1,     2, ..., 21608, 21609, 21610])),\n",
       " (array([    0,     1,     2, ..., 21608, 21609, 21610]),\n",
       "  array([    4,     6,    10, ..., 21602, 21604, 21607]))]"
      ]
     },
     "execution_count": 12,
     "metadata": {},
     "output_type": "execute_result"
    }
   ],
   "source": [
    "rkf = RepeatedKFold(n_splits=2, n_repeats=1, random_state=0)\n",
    "\n",
    "indices_list = list(rkf.split(X))\n",
    "indices_list"
   ]
  },
  {
   "cell_type": "code",
   "execution_count": 13,
   "metadata": {},
   "outputs": [
    {
     "data": {
      "text/plain": [
       "(array([    4,     6,    10, ..., 21602, 21604, 21607]),\n",
       " array([    0,     1,     2, ..., 21608, 21609, 21610]))"
      ]
     },
     "execution_count": 13,
     "metadata": {},
     "output_type": "execute_result"
    }
   ],
   "source": [
    "indices_list[0]"
   ]
  },
  {
   "cell_type": "code",
   "execution_count": 14,
   "metadata": {},
   "outputs": [],
   "source": [
    "x_train1, y_train1 = X[indices_list[0][0]], Y[indices_list[0][0]]\n",
    "x_test1, y_test1 = X[indices_list[0][1]], Y[indices_list[0][1]]\n",
    "\n",
    "x_train2, y_train2 = X[indices_list[1][0]], Y[indices_list[1][0]]\n",
    "x_test2, y_test2 = X[indices_list[1][1]], Y[indices_list[1][1]]"
   ]
  },
  {
   "cell_type": "code",
   "execution_count": 15,
   "metadata": {},
   "outputs": [
    {
     "data": {
      "text/plain": [
       "0.64511443953010517"
      ]
     },
     "execution_count": 15,
     "metadata": {},
     "output_type": "execute_result"
    }
   ],
   "source": [
    "reg = LinearRegression().fit(x_train1, y_train1)\n",
    "\n",
    "reg.score(x_test1, y_test1)"
   ]
  },
  {
   "cell_type": "code",
   "execution_count": 16,
   "metadata": {},
   "outputs": [
    {
     "data": {
      "text/plain": [
       "0.64992314765685921"
      ]
     },
     "execution_count": 16,
     "metadata": {},
     "output_type": "execute_result"
    }
   ],
   "source": [
    "reg = LinearRegression().fit(x_train2, y_train2)\n",
    "\n",
    "reg.score(x_test2, y_test2)"
   ]
  },
  {
   "cell_type": "code",
   "execution_count": 17,
   "metadata": {},
   "outputs": [
    {
     "data": {
      "text/plain": [
       "array([ 0.64511444,  0.64992315])"
      ]
     },
     "execution_count": 17,
     "metadata": {},
     "output_type": "execute_result"
    }
   ],
   "source": [
    "cross_val_score(reg, X, Y, cv=rkf)"
   ]
  },
  {
   "cell_type": "code",
   "execution_count": null,
   "metadata": {},
   "outputs": [],
   "source": []
  },
  {
   "cell_type": "code",
   "execution_count": null,
   "metadata": {},
   "outputs": [],
   "source": [
    " "
   ]
  }
 ],
 "metadata": {
  "kernelspec": {
   "display_name": "Python 3",
   "language": "python",
   "name": "python3"
  },
  "language_info": {
   "codemirror_mode": {
    "name": "ipython",
    "version": 3
   },
   "file_extension": ".py",
   "mimetype": "text/x-python",
   "name": "python",
   "nbconvert_exporter": "python",
   "pygments_lexer": "ipython3",
   "version": "3.6.8"
  }
 },
 "nbformat": 4,
 "nbformat_minor": 2
}
